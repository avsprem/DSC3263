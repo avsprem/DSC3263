{
 "cells": [
  {
   "cell_type": "code",
   "execution_count": 7,
   "metadata": {},
   "outputs": [
    {
     "data": {
      "text/html": [
       "<div>\n",
       "<style scoped>\n",
       "    .dataframe tbody tr th:only-of-type {\n",
       "        vertical-align: middle;\n",
       "    }\n",
       "\n",
       "    .dataframe tbody tr th {\n",
       "        vertical-align: top;\n",
       "    }\n",
       "\n",
       "    .dataframe thead th {\n",
       "        text-align: right;\n",
       "    }\n",
       "</style>\n",
       "<table border=\"1\" class=\"dataframe\">\n",
       "  <thead>\n",
       "    <tr style=\"text-align: right;\">\n",
       "      <th></th>\n",
       "      <th>Manampitiya (HMIS)</th>\n",
       "      <th>Peradeniya</th>\n",
       "      <th>Weragantota</th>\n",
       "      <th>Nawalapitiya</th>\n",
       "      <th>Taldena</th>\n",
       "    </tr>\n",
       "  </thead>\n",
       "  <tbody>\n",
       "    <tr>\n",
       "      <th>0</th>\n",
       "      <td>0.80</td>\n",
       "      <td>1.60</td>\n",
       "      <td>-2.47</td>\n",
       "      <td>0.69</td>\n",
       "      <td>0.45</td>\n",
       "    </tr>\n",
       "    <tr>\n",
       "      <th>1</th>\n",
       "      <td>0.66</td>\n",
       "      <td>2.00</td>\n",
       "      <td>-2.16</td>\n",
       "      <td>0.69</td>\n",
       "      <td>0.44</td>\n",
       "    </tr>\n",
       "    <tr>\n",
       "      <th>2</th>\n",
       "      <td>1.64</td>\n",
       "      <td>2.10</td>\n",
       "      <td>-2.03</td>\n",
       "      <td>0.72</td>\n",
       "      <td>0.69</td>\n",
       "    </tr>\n",
       "    <tr>\n",
       "      <th>3</th>\n",
       "      <td>1.25</td>\n",
       "      <td>1.19</td>\n",
       "      <td>-2.09</td>\n",
       "      <td>0.70</td>\n",
       "      <td>0.62</td>\n",
       "    </tr>\n",
       "    <tr>\n",
       "      <th>4</th>\n",
       "      <td>1.95</td>\n",
       "      <td>1.86</td>\n",
       "      <td>-1.84</td>\n",
       "      <td>0.67</td>\n",
       "      <td>0.54</td>\n",
       "    </tr>\n",
       "  </tbody>\n",
       "</table>\n",
       "</div>"
      ],
      "text/plain": [
       "   Manampitiya (HMIS)  Peradeniya  Weragantota  Nawalapitiya  Taldena\n",
       "0                0.80        1.60        -2.47          0.69     0.45\n",
       "1                0.66        2.00        -2.16          0.69     0.44\n",
       "2                1.64        2.10        -2.03          0.72     0.69\n",
       "3                1.25        1.19        -2.09          0.70     0.62\n",
       "4                1.95        1.86        -1.84          0.67     0.54"
      ]
     },
     "execution_count": 7,
     "metadata": {},
     "output_type": "execute_result"
    }
   ],
   "source": [
    "import pandas as pd\n",
    "from scipy import stats\n",
    "import statsmodels.api as sm\n",
    "import numpy as np\n",
    "\n",
    "# Load the data\n",
    "path = \"C:/Academics/3rd Year/Sem 2/DSC 3263/mahaweli.xlsx\"\n",
    "#path = \"C:/Academics/3rd Year/Sem 2/DSC 3263/Merged_Final.xlsx\"\n",
    "df = pd.read_excel(path)\n",
    "df = df.drop(columns=['Unnamed: 0'])\n",
    "df.head()\n",
    "\n"
   ]
  },
  {
   "cell_type": "code",
   "execution_count": 8,
   "metadata": {},
   "outputs": [
    {
     "data": {
      "text/html": [
       "<div>\n",
       "<style scoped>\n",
       "    .dataframe tbody tr th:only-of-type {\n",
       "        vertical-align: middle;\n",
       "    }\n",
       "\n",
       "    .dataframe tbody tr th {\n",
       "        vertical-align: top;\n",
       "    }\n",
       "\n",
       "    .dataframe thead th {\n",
       "        text-align: right;\n",
       "    }\n",
       "</style>\n",
       "<table border=\"1\" class=\"dataframe\">\n",
       "  <thead>\n",
       "    <tr style=\"text-align: right;\">\n",
       "      <th></th>\n",
       "      <th>Manampitiya (HMIS)</th>\n",
       "      <th>Peradeniya</th>\n",
       "      <th>Weragantota</th>\n",
       "      <th>Nawalapitiya</th>\n",
       "      <th>Taldena</th>\n",
       "    </tr>\n",
       "  </thead>\n",
       "  <tbody>\n",
       "    <tr>\n",
       "      <th>Manampitiya (HMIS)</th>\n",
       "      <td>1.000000</td>\n",
       "      <td>0.394960</td>\n",
       "      <td>0.927098</td>\n",
       "      <td>-0.191026</td>\n",
       "      <td>0.833567</td>\n",
       "    </tr>\n",
       "    <tr>\n",
       "      <th>Peradeniya</th>\n",
       "      <td>0.394960</td>\n",
       "      <td>1.000000</td>\n",
       "      <td>0.366556</td>\n",
       "      <td>0.499169</td>\n",
       "      <td>0.490790</td>\n",
       "    </tr>\n",
       "    <tr>\n",
       "      <th>Weragantota</th>\n",
       "      <td>0.927098</td>\n",
       "      <td>0.366556</td>\n",
       "      <td>1.000000</td>\n",
       "      <td>-0.135834</td>\n",
       "      <td>0.772796</td>\n",
       "    </tr>\n",
       "    <tr>\n",
       "      <th>Nawalapitiya</th>\n",
       "      <td>-0.191026</td>\n",
       "      <td>0.499169</td>\n",
       "      <td>-0.135834</td>\n",
       "      <td>1.000000</td>\n",
       "      <td>-0.132443</td>\n",
       "    </tr>\n",
       "    <tr>\n",
       "      <th>Taldena</th>\n",
       "      <td>0.833567</td>\n",
       "      <td>0.490790</td>\n",
       "      <td>0.772796</td>\n",
       "      <td>-0.132443</td>\n",
       "      <td>1.000000</td>\n",
       "    </tr>\n",
       "  </tbody>\n",
       "</table>\n",
       "</div>"
      ],
      "text/plain": [
       "                    Manampitiya (HMIS)  Peradeniya  Weragantota  Nawalapitiya  \\\n",
       "Manampitiya (HMIS)            1.000000    0.394960     0.927098     -0.191026   \n",
       "Peradeniya                    0.394960    1.000000     0.366556      0.499169   \n",
       "Weragantota                   0.927098    0.366556     1.000000     -0.135834   \n",
       "Nawalapitiya                 -0.191026    0.499169    -0.135834      1.000000   \n",
       "Taldena                       0.833567    0.490790     0.772796     -0.132443   \n",
       "\n",
       "                     Taldena  \n",
       "Manampitiya (HMIS)  0.833567  \n",
       "Peradeniya          0.490790  \n",
       "Weragantota         0.772796  \n",
       "Nawalapitiya       -0.132443  \n",
       "Taldena             1.000000  "
      ]
     },
     "execution_count": 8,
     "metadata": {},
     "output_type": "execute_result"
    }
   ],
   "source": [
    "# Check correlation\n",
    "correlation_matrix = df.corr()\n",
    "correlation_matrix"
   ]
  },
  {
   "cell_type": "code",
   "execution_count": 9,
   "metadata": {},
   "outputs": [
    {
     "name": "stdout",
     "output_type": "stream",
     "text": [
      "Normality test p-value for Manampitiya (HMIS): 1.9706797261667165e-12\n",
      "Normality test p-value for Peradeniya: 0.016448301313298875\n",
      "Normality test p-value for Weragantota: 5.768718061284714e-16\n",
      "Normality test p-value for Nawalapitiya: 1.080172066037616e-16\n",
      "Normality test p-value for Taldena: 3.0854554796289796e-23\n"
     ]
    }
   ],
   "source": [
    "# Check normality assumptions\n",
    "for column in df.columns:\n",
    "    _, p_value = stats.normaltest(df[column])\n",
    "    print(f'Normality test p-value for {column}: {p_value}')"
   ]
  },
  {
   "cell_type": "code",
   "execution_count": 10,
   "metadata": {},
   "outputs": [
    {
     "name": "stdout",
     "output_type": "stream",
     "text": [
      "                            OLS Regression Results                            \n",
      "==============================================================================\n",
      "Dep. Variable:     Manampitiya (HMIS)   R-squared:                       0.899\n",
      "Model:                            OLS   Adj. R-squared:                  0.896\n",
      "Method:                 Least Squares   F-statistic:                     352.4\n",
      "Date:                Wed, 14 Feb 2024   Prob (F-statistic):           6.69e-78\n",
      "Time:                        23:00:50   Log-Likelihood:                -69.067\n",
      "No. Observations:                 164   AIC:                             148.1\n",
      "Df Residuals:                     159   BIC:                             163.6\n",
      "Df Model:                           4                                         \n",
      "Covariance Type:            nonrobust                                         \n",
      "================================================================================\n",
      "                   coef    std err          t      P>|t|      [0.025      0.975]\n",
      "--------------------------------------------------------------------------------\n",
      "const            2.1735      0.191     11.390      0.000       1.797       2.550\n",
      "Peradeniya       0.0863      0.052      1.658      0.099      -0.016       0.189\n",
      "Weragantota      0.7322      0.042     17.482      0.000       0.649       0.815\n",
      "Nawalapitiya    -0.3120      0.111     -2.814      0.006      -0.531      -0.093\n",
      "Taldena          0.7519      0.135      5.575      0.000       0.486       1.018\n",
      "==============================================================================\n",
      "Omnibus:                       36.854   Durbin-Watson:                   1.695\n",
      "Prob(Omnibus):                  0.000   Jarque-Bera (JB):              134.695\n",
      "Skew:                          -0.780   Prob(JB):                     5.64e-30\n",
      "Kurtosis:                       7.157   Cond. No.                         29.0\n",
      "==============================================================================\n",
      "\n",
      "Notes:\n",
      "[1] Standard Errors assume that the covariance matrix of the errors is correctly specified.\n"
     ]
    }
   ],
   "source": [
    "# Fit a linear regression model\n",
    "X = df[['Peradeniya', 'Weragantota', 'Nawalapitiya', 'Taldena']]\n",
    "y = df['Manampitiya (HMIS)']\n",
    "X = sm.add_constant(X)  # Add a constant for the intercept term\n",
    "\n",
    "model = sm.OLS(y, X).fit()\n",
    "print(model.summary())\n"
   ]
  },
  {
   "cell_type": "code",
   "execution_count": 11,
   "metadata": {},
   "outputs": [
    {
     "name": "stdout",
     "output_type": "stream",
     "text": [
      "Shape of X: (164, 5)\n",
      "Shape of parameters: (5,)\n"
     ]
    }
   ],
   "source": [
    "import statsmodels.api as sm\n",
    "import numpy as np\n",
    "\n",
    "# Define your features (X) and target variable (y)\n",
    "X = df[['Peradeniya', 'Weragantota', 'Nawalapitiya', 'Taldena']]\n",
    "y = df['Manampitiya (HMIS)']\n",
    "\n",
    "# Add a constant term for the intercept\n",
    "X = sm.add_constant(X)\n",
    "\n",
    "# Fit the linear regression model\n",
    "model = sm.OLS(y, X).fit()\n",
    "\n",
    "# Print the shapes of features and parameters\n",
    "print(\"Shape of X:\", X.shape)\n",
    "print(\"Shape of parameters:\", model.params.shape)"
   ]
  },
  {
   "cell_type": "code",
   "execution_count": 12,
   "metadata": {},
   "outputs": [
    {
     "name": "stdout",
     "output_type": "stream",
     "text": [
      "Mean Squared Error: 0.2989309140347321\n"
     ]
    }
   ],
   "source": [
    "import pandas as pd\n",
    "from sklearn.model_selection import train_test_split\n",
    "from sklearn.linear_model import LinearRegression\n",
    "from sklearn.metrics import mean_squared_error\n",
    "\n",
    "# Assuming your data is in a pandas DataFrame df\n",
    "\n",
    "# Define predictors and target variable\n",
    "X = df[['Peradeniya', 'Weragantota', 'Nawalapitiya', 'Taldena']]\n",
    "y = df['Manampitiya (HMIS)']\n",
    "\n",
    "# Split the data into training and testing sets\n",
    "X_train, X_test, y_train, y_test = train_test_split(X, y, test_size=0.2, random_state=42)\n",
    "\n",
    "# Create a Linear Regression model\n",
    "model = LinearRegression()\n",
    "\n",
    "# Train the model\n",
    "model.fit(X_train, y_train)\n",
    "\n",
    "# Make predictions\n",
    "y_pred = model.predict(X_test)\n",
    "\n",
    "# Evaluate the model\n",
    "mse = mean_squared_error(y_test, y_pred)\n",
    "\n",
    "print(f'Mean Squared Error: {mse}')\n"
   ]
  },
  {
   "cell_type": "code",
   "execution_count": 13,
   "metadata": {},
   "outputs": [
    {
     "name": "stdout",
     "output_type": "stream",
     "text": [
      "Intercept: 1.7819920331563581\n",
      "Coefficients: [ 0.02121575  0.66920907 -0.20853447  1.21971534]\n",
      "                            OLS Regression Results                            \n",
      "==============================================================================\n",
      "Dep. Variable:     Manampitiya (HMIS)   R-squared:                       0.917\n",
      "Model:                            OLS   Adj. R-squared:                  0.914\n",
      "Method:                 Least Squares   F-statistic:                     347.6\n",
      "Date:                Wed, 14 Feb 2024   Prob (F-statistic):           5.03e-67\n",
      "Time:                        23:02:22   Log-Likelihood:                -41.722\n",
      "No. Observations:                 131   AIC:                             93.44\n",
      "Df Residuals:                     126   BIC:                             107.8\n",
      "Df Model:                           4                                         \n",
      "Covariance Type:            nonrobust                                         \n",
      "================================================================================\n",
      "                   coef    std err          t      P>|t|      [0.025      0.975]\n",
      "--------------------------------------------------------------------------------\n",
      "const            1.7820      0.197      9.053      0.000       1.392       2.172\n",
      "Peradeniya       0.0212      0.055      0.388      0.699      -0.087       0.130\n",
      "Weragantota      0.6692      0.042     16.019      0.000       0.587       0.752\n",
      "Nawalapitiya    -0.2085      0.111     -1.885      0.062      -0.427       0.010\n",
      "Taldena          1.2197      0.158      7.731      0.000       0.908       1.532\n",
      "==============================================================================\n",
      "Omnibus:                       36.758   Durbin-Watson:                   1.994\n",
      "Prob(Omnibus):                  0.000   Jarque-Bera (JB):              103.890\n",
      "Skew:                          -1.040   Prob(JB):                     2.76e-23\n",
      "Kurtosis:                       6.835   Cond. No.                         31.1\n",
      "==============================================================================\n",
      "\n",
      "Notes:\n",
      "[1] Standard Errors assume that the covariance matrix of the errors is correctly specified.\n"
     ]
    }
   ],
   "source": [
    "# Print the intercept and coefficients\n",
    "print(f'Intercept: {model.intercept_}')\n",
    "print(f'Coefficients: {model.coef_}')\n",
    "\n",
    "# If you want a more detailed summary, you can use the statsmodels library\n",
    "import statsmodels.api as sm\n",
    "\n",
    "# Add a constant to the predictors\n",
    "X_train_sm = sm.add_constant(X_train)\n",
    "\n",
    "# Fit the model\n",
    "model_sm = sm.OLS(y_train, X_train_sm)\n",
    "results = model_sm.fit()\n",
    "\n",
    "# Print out the statistics\n",
    "print(results.summary())\n"
   ]
  },
  {
   "cell_type": "markdown",
   "metadata": {},
   "source": [
    "### Manampitiya (HMIS) = 1.7820 + 0.6692 * Weragantota + 1.2197 * Taldena"
   ]
  }
 ],
 "metadata": {
  "kernelspec": {
   "display_name": "Python 3",
   "language": "python",
   "name": "python3"
  },
  "language_info": {
   "codemirror_mode": {
    "name": "ipython",
    "version": 3
   },
   "file_extension": ".py",
   "mimetype": "text/x-python",
   "name": "python",
   "nbconvert_exporter": "python",
   "pygments_lexer": "ipython3",
   "version": "3.10.4"
  }
 },
 "nbformat": 4,
 "nbformat_minor": 2
}
