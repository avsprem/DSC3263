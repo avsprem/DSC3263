{
 "cells": [
  {
   "cell_type": "code",
   "execution_count": 4,
   "metadata": {},
   "outputs": [
    {
     "name": "stdout",
     "output_type": "stream",
     "text": [
      "Concatenated data saved to C:/Users/User/Desktop/Project/Data/merged_data.xlsx\n"
     ]
    }
   ],
   "source": [
    "import os\n",
    "import pandas as pd\n",
    "\n",
    "# Specify the folder where your Excel files are located\n",
    "folder_path = \"C:/Users/User/Desktop/Project/Data/excel\"\n",
    "\n",
    "# Create an empty DataFrame to store the concatenated data\n",
    "concatenated_data = pd.DataFrame()\n",
    "\n",
    "# Iterate through each file in the specified folder\n",
    "for file_name in os.listdir(folder_path):\n",
    "    if file_name.endswith('.xlsx') and file_name.startswith('2023_'):\n",
    "        file_path = os.path.join(folder_path, file_name)\n",
    "        \n",
    "        # Read the Excel file into a DataFrame\n",
    "        df = pd.read_excel(file_path)\n",
    "        \n",
    "        # Append the data to the concatenated DataFrame\n",
    "        #concatenated_data = concatenated_data.concat(df, ignore_index=True)\n",
    "        concatenated_data = pd.concat([concatenated_data, df], ignore_index=True)\n",
    "\n",
    "# Save the concatenated DataFrame to a new Excel file\n",
    "concatenated_data.drop(concatenated_data.columns[0], axis=1, inplace=True)\n",
    "output_file_path = \"C:/Users/User/Desktop/Project/Data/merged_data.xlsx\"\n",
    "concatenated_data.to_excel(output_file_path, index=False)\n",
    "\n",
    "print(f\"Concatenated data saved to {output_file_path}\")\n"
   ]
  }
 ],
 "metadata": {
  "kernelspec": {
   "display_name": "Python 3",
   "language": "python",
   "name": "python3"
  },
  "language_info": {
   "codemirror_mode": {
    "name": "ipython",
    "version": 3
   },
   "file_extension": ".py",
   "mimetype": "text/x-python",
   "name": "python",
   "nbconvert_exporter": "python",
   "pygments_lexer": "ipython3",
   "version": "3.11.4"
  }
 },
 "nbformat": 4,
 "nbformat_minor": 2
}
